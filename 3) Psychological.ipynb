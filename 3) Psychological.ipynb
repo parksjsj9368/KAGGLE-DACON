{
 "cells": [
  {
   "cell_type": "markdown",
   "metadata": {},
   "source": [
    "# Dacon"
   ]
  },
  {
   "cell_type": "code",
   "execution_count": 1,
   "metadata": {},
   "outputs": [],
   "source": [
    "import numpy as np\n",
    "import pandas as pd\n",
    "from os import chdir"
   ]
  },
  {
   "cell_type": "code",
   "execution_count": 69,
   "metadata": {},
   "outputs": [],
   "source": [
    "chdir('C:/Users/user/Desktop/open data')\n",
    "df_train = pd.read_csv('train.csv', index_col=0)\n",
    "df_test = pd.read_csv('test_x.csv', index_col = 0)\n",
    "submission = pd.read_csv('sample_submission.csv', index_col=0)"
   ]
  },
  {
   "cell_type": "code",
   "execution_count": 70,
   "metadata": {},
   "outputs": [
    {
     "name": "stdout",
     "output_type": "stream",
     "text": [
      "(45532, 77)\n",
      "(11383, 76)\n"
     ]
    }
   ],
   "source": [
    "print(df_train.shape)\n",
    "print(df_test.shape)"
   ]
  },
  {
   "cell_type": "code",
   "execution_count": 71,
   "metadata": {
    "scrolled": true
   },
   "outputs": [
    {
     "name": "stdout",
     "output_type": "stream",
     "text": [
      "<class 'pandas.core.frame.DataFrame'>\n",
      "Int64Index: 45532 entries, 0 to 45531\n",
      "Data columns (total 77 columns):\n",
      " #   Column      Non-Null Count  Dtype  \n",
      "---  ------      --------------  -----  \n",
      " 0   QaA         45532 non-null  float64\n",
      " 1   QaE         45532 non-null  int64  \n",
      " 2   QbA         45532 non-null  float64\n",
      " 3   QbE         45532 non-null  int64  \n",
      " 4   QcA         45532 non-null  float64\n",
      " 5   QcE         45532 non-null  int64  \n",
      " 6   QdA         45532 non-null  float64\n",
      " 7   QdE         45532 non-null  int64  \n",
      " 8   QeA         45532 non-null  float64\n",
      " 9   QeE         45532 non-null  int64  \n",
      " 10  QfA         45532 non-null  float64\n",
      " 11  QfE         45532 non-null  int64  \n",
      " 12  QgA         45532 non-null  float64\n",
      " 13  QgE         45532 non-null  int64  \n",
      " 14  QhA         45532 non-null  float64\n",
      " 15  QhE         45532 non-null  int64  \n",
      " 16  QiA         45532 non-null  float64\n",
      " 17  QiE         45532 non-null  int64  \n",
      " 18  QjA         45532 non-null  float64\n",
      " 19  QjE         45532 non-null  int64  \n",
      " 20  QkA         45532 non-null  float64\n",
      " 21  QkE         45532 non-null  int64  \n",
      " 22  QlA         45532 non-null  float64\n",
      " 23  QlE         45532 non-null  int64  \n",
      " 24  QmA         45532 non-null  float64\n",
      " 25  QmE         45532 non-null  int64  \n",
      " 26  QnA         45532 non-null  float64\n",
      " 27  QnE         45532 non-null  int64  \n",
      " 28  QoA         45532 non-null  float64\n",
      " 29  QoE         45532 non-null  int64  \n",
      " 30  QpA         45532 non-null  float64\n",
      " 31  QpE         45532 non-null  int64  \n",
      " 32  QqA         45532 non-null  float64\n",
      " 33  QqE         45532 non-null  int64  \n",
      " 34  QrA         45532 non-null  float64\n",
      " 35  QrE         45532 non-null  int64  \n",
      " 36  QsA         45532 non-null  float64\n",
      " 37  QsE         45532 non-null  int64  \n",
      " 38  QtA         45532 non-null  float64\n",
      " 39  QtE         45532 non-null  int64  \n",
      " 40  age_group   45532 non-null  object \n",
      " 41  education   45532 non-null  int64  \n",
      " 42  engnat      45532 non-null  int64  \n",
      " 43  familysize  45532 non-null  int64  \n",
      " 44  gender      45532 non-null  object \n",
      " 45  hand        45532 non-null  int64  \n",
      " 46  married     45532 non-null  int64  \n",
      " 47  race        45532 non-null  object \n",
      " 48  religion    45532 non-null  object \n",
      " 49  tp01        45532 non-null  int64  \n",
      " 50  tp02        45532 non-null  int64  \n",
      " 51  tp03        45532 non-null  int64  \n",
      " 52  tp04        45532 non-null  int64  \n",
      " 53  tp05        45532 non-null  int64  \n",
      " 54  tp06        45532 non-null  int64  \n",
      " 55  tp07        45532 non-null  int64  \n",
      " 56  tp08        45532 non-null  int64  \n",
      " 57  tp09        45532 non-null  int64  \n",
      " 58  tp10        45532 non-null  int64  \n",
      " 59  urban       45532 non-null  int64  \n",
      " 60  voted       45532 non-null  int64  \n",
      " 61  wf_01       45532 non-null  int64  \n",
      " 62  wf_02       45532 non-null  int64  \n",
      " 63  wf_03       45532 non-null  int64  \n",
      " 64  wr_01       45532 non-null  int64  \n",
      " 65  wr_02       45532 non-null  int64  \n",
      " 66  wr_03       45532 non-null  int64  \n",
      " 67  wr_04       45532 non-null  int64  \n",
      " 68  wr_05       45532 non-null  int64  \n",
      " 69  wr_06       45532 non-null  int64  \n",
      " 70  wr_07       45532 non-null  int64  \n",
      " 71  wr_08       45532 non-null  int64  \n",
      " 72  wr_09       45532 non-null  int64  \n",
      " 73  wr_10       45532 non-null  int64  \n",
      " 74  wr_11       45532 non-null  int64  \n",
      " 75  wr_12       45532 non-null  int64  \n",
      " 76  wr_13       45532 non-null  int64  \n",
      "dtypes: float64(20), int64(53), object(4)\n",
      "memory usage: 27.1+ MB\n"
     ]
    }
   ],
   "source": [
    "df_train.info()"
   ]
  },
  {
   "cell_type": "code",
   "execution_count": 72,
   "metadata": {},
   "outputs": [
    {
     "data": {
      "text/plain": [
       "Index(['QaA', 'QaE', 'QbA', 'QbE', 'QcA', 'QcE', 'QdA', 'QdE', 'QeA', 'QeE',\n",
       "       'QfA', 'QfE', 'QgA', 'QgE', 'QhA', 'QhE', 'QiA', 'QiE', 'QjA', 'QjE',\n",
       "       'QkA', 'QkE', 'QlA', 'QlE', 'QmA', 'QmE', 'QnA', 'QnE', 'QoA', 'QoE',\n",
       "       'QpA', 'QpE', 'QqA', 'QqE', 'QrA', 'QrE', 'QsA', 'QsE', 'QtA', 'QtE',\n",
       "       'age_group', 'education', 'engnat', 'familysize', 'gender', 'hand',\n",
       "       'married', 'race', 'religion', 'tp01', 'tp02', 'tp03', 'tp04', 'tp05',\n",
       "       'tp06', 'tp07', 'tp08', 'tp09', 'tp10', 'urban', 'voted', 'wf_01',\n",
       "       'wf_02', 'wf_03', 'wr_01', 'wr_02', 'wr_03', 'wr_04', 'wr_05', 'wr_06',\n",
       "       'wr_07', 'wr_08', 'wr_09', 'wr_10', 'wr_11', 'wr_12', 'wr_13'],\n",
       "      dtype='object')"
      ]
     },
     "execution_count": 72,
     "metadata": {},
     "output_type": "execute_result"
    }
   ],
   "source": [
    "df_train.columns"
   ]
  },
  {
   "cell_type": "code",
   "execution_count": 73,
   "metadata": {},
   "outputs": [],
   "source": [
    "df_train.voted = df_train.voted - 1"
   ]
  },
  {
   "cell_type": "markdown",
   "metadata": {},
   "source": [
    "## Data Processing"
   ]
  },
  {
   "cell_type": "markdown",
   "metadata": {},
   "source": [
    "### target variable"
   ]
  },
  {
   "cell_type": "markdown",
   "metadata": {},
   "source": [
    "- voted / 2 / 1"
   ]
  },
  {
   "cell_type": "code",
   "execution_count": 7,
   "metadata": {},
   "outputs": [
    {
     "data": {
      "text/plain": [
       "1    24898\n",
       "0    20634\n",
       "Name: voted, dtype: int64"
      ]
     },
     "execution_count": 7,
     "metadata": {},
     "output_type": "execute_result"
    }
   ],
   "source": [
    "df_train['voted'].value_counts()"
   ]
  },
  {
   "cell_type": "markdown",
   "metadata": {},
   "source": [
    "### Features engineering"
   ]
  },
  {
   "cell_type": "code",
   "execution_count": 8,
   "metadata": {},
   "outputs": [
    {
     "data": {
      "text/html": [
       "<div>\n",
       "<style scoped>\n",
       "    .dataframe tbody tr th:only-of-type {\n",
       "        vertical-align: middle;\n",
       "    }\n",
       "\n",
       "    .dataframe tbody tr th {\n",
       "        vertical-align: top;\n",
       "    }\n",
       "\n",
       "    .dataframe thead th {\n",
       "        text-align: right;\n",
       "    }\n",
       "</style>\n",
       "<table border=\"1\" class=\"dataframe\">\n",
       "  <thead>\n",
       "    <tr style=\"text-align: right;\">\n",
       "      <th></th>\n",
       "      <th>voted</th>\n",
       "    </tr>\n",
       "    <tr>\n",
       "      <th>QaA</th>\n",
       "      <th></th>\n",
       "    </tr>\n",
       "  </thead>\n",
       "  <tbody>\n",
       "    <tr>\n",
       "      <th>1.0</th>\n",
       "      <td>0.564892</td>\n",
       "    </tr>\n",
       "    <tr>\n",
       "      <th>2.0</th>\n",
       "      <td>0.540892</td>\n",
       "    </tr>\n",
       "    <tr>\n",
       "      <th>3.0</th>\n",
       "      <td>0.563033</td>\n",
       "    </tr>\n",
       "    <tr>\n",
       "      <th>4.0</th>\n",
       "      <td>0.494825</td>\n",
       "    </tr>\n",
       "    <tr>\n",
       "      <th>5.0</th>\n",
       "      <td>0.500437</td>\n",
       "    </tr>\n",
       "  </tbody>\n",
       "</table>\n",
       "</div>"
      ],
      "text/plain": [
       "        voted\n",
       "QaA          \n",
       "1.0  0.564892\n",
       "2.0  0.540892\n",
       "3.0  0.563033\n",
       "4.0  0.494825\n",
       "5.0  0.500437"
      ]
     },
     "execution_count": 8,
     "metadata": {},
     "output_type": "execute_result"
    }
   ],
   "source": [
    "# Q_A : 질문에 대한 평가, 등간척도\n",
    "# 1=Disagree, 2=Slightly disagree, 3=Neutral, 4=Slightly agree, 5=Agree\n",
    "df_train[['QaA','voted']].groupby('QaA').mean()"
   ]
  },
  {
   "cell_type": "code",
   "execution_count": 9,
   "metadata": {},
   "outputs": [
    {
     "data": {
      "text/plain": [
       "<matplotlib.axes._subplots.AxesSubplot at 0x1d451e8c1c0>"
      ]
     },
     "execution_count": 9,
     "metadata": {},
     "output_type": "execute_result"
    },
    {
     "data": {
      "image/png": "[encoded data removed]",
      "text/plain": [
       "<Figure size 432x288 with 1 Axes>"
      ]
     },
     "metadata": {
      "needs_background": "light"
     },
     "output_type": "display_data"
    }
   ],
   "source": [
    "df_train['QaA'].hist()"
   ]
  },
  {
   "cell_type": "code",
   "execution_count": 10,
   "metadata": {},
   "outputs": [
    {
     "data": {
      "text/html": [
       "<div>\n",
       "<style scoped>\n",
       "    .dataframe tbody tr th:only-of-type {\n",
       "        vertical-align: middle;\n",
       "    }\n",
       "\n",
       "    .dataframe tbody tr th {\n",
       "        vertical-align: top;\n",
       "    }\n",
       "\n",
       "    .dataframe thead th {\n",
       "        text-align: right;\n",
       "    }\n",
       "</style>\n",
       "<table border=\"1\" class=\"dataframe\">\n",
       "  <thead>\n",
       "    <tr style=\"text-align: right;\">\n",
       "      <th></th>\n",
       "      <th>voted</th>\n",
       "    </tr>\n",
       "    <tr>\n",
       "      <th>QaE</th>\n",
       "      <th></th>\n",
       "    </tr>\n",
       "  </thead>\n",
       "  <tbody>\n",
       "    <tr>\n",
       "      <th>25</th>\n",
       "      <td>1.000000</td>\n",
       "    </tr>\n",
       "    <tr>\n",
       "      <th>26</th>\n",
       "      <td>0.600000</td>\n",
       "    </tr>\n",
       "    <tr>\n",
       "      <th>27</th>\n",
       "      <td>0.571429</td>\n",
       "    </tr>\n",
       "    <tr>\n",
       "      <th>28</th>\n",
       "      <td>1.000000</td>\n",
       "    </tr>\n",
       "    <tr>\n",
       "      <th>29</th>\n",
       "      <td>0.500000</td>\n",
       "    </tr>\n",
       "    <tr>\n",
       "      <th>...</th>\n",
       "      <td>...</td>\n",
       "    </tr>\n",
       "    <tr>\n",
       "      <th>497807</th>\n",
       "      <td>1.000000</td>\n",
       "    </tr>\n",
       "    <tr>\n",
       "      <th>571768</th>\n",
       "      <td>0.000000</td>\n",
       "    </tr>\n",
       "    <tr>\n",
       "      <th>599190</th>\n",
       "      <td>1.000000</td>\n",
       "    </tr>\n",
       "    <tr>\n",
       "      <th>697050</th>\n",
       "      <td>0.000000</td>\n",
       "    </tr>\n",
       "    <tr>\n",
       "      <th>2413960</th>\n",
       "      <td>1.000000</td>\n",
       "    </tr>\n",
       "  </tbody>\n",
       "</table>\n",
       "<p>3235 rows × 1 columns</p>\n",
       "</div>"
      ],
      "text/plain": [
       "            voted\n",
       "QaE              \n",
       "25       1.000000\n",
       "26       0.600000\n",
       "27       0.571429\n",
       "28       1.000000\n",
       "29       0.500000\n",
       "...           ...\n",
       "497807   1.000000\n",
       "571768   0.000000\n",
       "599190   1.000000\n",
       "697050   0.000000\n",
       "2413960  1.000000\n",
       "\n",
       "[3235 rows x 1 columns]"
      ]
     },
     "execution_count": 10,
     "metadata": {},
     "output_type": "execute_result"
    }
   ],
   "source": [
    "# Q_E : 질문을 답할 때까지의 시간\n",
    "df_train[['QaE','voted']].groupby('QaE').mean()"
   ]
  },
  {
   "cell_type": "code",
   "execution_count": 11,
   "metadata": {},
   "outputs": [
    {
     "data": {
      "text/plain": [
       "<matplotlib.axes._subplots.AxesSubplot at 0x1d451e8c1f0>"
      ]
     },
     "execution_count": 11,
     "metadata": {},
     "output_type": "execute_result"
    },
    {
     "data": {
      "image/png": "[encoded data removed]",
      "text/plain": [
       "<Figure size 432x288 with 1 Axes>"
      ]
     },
     "metadata": {
      "needs_background": "light"
     },
     "output_type": "display_data"
    }
   ],
   "source": [
    "df_train['QaE'].plot()"
   ]
  },
  {
   "cell_type": "code",
   "execution_count": 12,
   "metadata": {},
   "outputs": [
    {
     "data": {
      "text/html": [
       "<div>\n",
       "<style scoped>\n",
       "    .dataframe tbody tr th:only-of-type {\n",
       "        vertical-align: middle;\n",
       "    }\n",
       "\n",
       "    .dataframe tbody tr th {\n",
       "        vertical-align: top;\n",
       "    }\n",
       "\n",
       "    .dataframe thead th {\n",
       "        text-align: right;\n",
       "    }\n",
       "</style>\n",
       "<table border=\"1\" class=\"dataframe\">\n",
       "  <thead>\n",
       "    <tr style=\"text-align: right;\">\n",
       "      <th></th>\n",
       "      <th>voted</th>\n",
       "    </tr>\n",
       "    <tr>\n",
       "      <th>age_group</th>\n",
       "      <th></th>\n",
       "    </tr>\n",
       "  </thead>\n",
       "  <tbody>\n",
       "    <tr>\n",
       "      <th>+70s</th>\n",
       "      <td>0.263830</td>\n",
       "    </tr>\n",
       "    <tr>\n",
       "      <th>10s</th>\n",
       "      <td>0.837214</td>\n",
       "    </tr>\n",
       "    <tr>\n",
       "      <th>20s</th>\n",
       "      <td>0.469671</td>\n",
       "    </tr>\n",
       "    <tr>\n",
       "      <th>30s</th>\n",
       "      <td>0.411179</td>\n",
       "    </tr>\n",
       "    <tr>\n",
       "      <th>40s</th>\n",
       "      <td>0.357949</td>\n",
       "    </tr>\n",
       "    <tr>\n",
       "      <th>50s</th>\n",
       "      <td>0.329872</td>\n",
       "    </tr>\n",
       "    <tr>\n",
       "      <th>60s</th>\n",
       "      <td>0.271357</td>\n",
       "    </tr>\n",
       "  </tbody>\n",
       "</table>\n",
       "</div>"
      ],
      "text/plain": [
       "              voted\n",
       "age_group          \n",
       "+70s       0.263830\n",
       "10s        0.837214\n",
       "20s        0.469671\n",
       "30s        0.411179\n",
       "40s        0.357949\n",
       "50s        0.329872\n",
       "60s        0.271357"
      ]
     },
     "execution_count": 12,
     "metadata": {},
     "output_type": "execute_result"
    }
   ],
   "source": [
    "# age_group : 연령대, str\n",
    "df_train[['age_group','voted']].groupby('age_group').mean()"
   ]
  },
  {
   "cell_type": "code",
   "execution_count": 13,
   "metadata": {},
   "outputs": [
    {
     "data": {
      "text/plain": [
       "<matplotlib.axes._subplots.AxesSubplot at 0x1d452ba1f40>"
      ]
     },
     "execution_count": 13,
     "metadata": {},
     "output_type": "execute_result"
    },
    {
     "data": {
      "image/png": "[encoded data removed]",
      "text/plain": [
       "<Figure size 432x288 with 1 Axes>"
      ]
     },
     "metadata": {
      "needs_background": "light"
     },
     "output_type": "display_data"
    }
   ],
   "source": [
    "df_train['age_group'].hist()"
   ]
  },
  {
   "cell_type": "code",
   "execution_count": 14,
   "metadata": {},
   "outputs": [],
   "source": [
    "# education : 교육수준, str\n",
    "# engnat : 모국어가 영어인가, 0이 결측치\n",
    "# familysize : 형제자매 수\n",
    "# gender : 성별\n",
    "# hand : 필기하는 손, str, 0이 결측치\n",
    "# married : 혼인상태, str\n",
    "# race : 인종\n",
    "# religion : 종교"
   ]
  },
  {
   "cell_type": "code",
   "execution_count": 15,
   "metadata": {},
   "outputs": [
    {
     "data": {
      "text/html": [
       "<div>\n",
       "<style scoped>\n",
       "    .dataframe tbody tr th:only-of-type {\n",
       "        vertical-align: middle;\n",
       "    }\n",
       "\n",
       "    .dataframe tbody tr th {\n",
       "        vertical-align: top;\n",
       "    }\n",
       "\n",
       "    .dataframe thead th {\n",
       "        text-align: right;\n",
       "    }\n",
       "</style>\n",
       "<table border=\"1\" class=\"dataframe\">\n",
       "  <thead>\n",
       "    <tr style=\"text-align: right;\">\n",
       "      <th></th>\n",
       "      <th>voted</th>\n",
       "    </tr>\n",
       "    <tr>\n",
       "      <th>tp01</th>\n",
       "      <th></th>\n",
       "    </tr>\n",
       "  </thead>\n",
       "  <tbody>\n",
       "    <tr>\n",
       "      <th>0</th>\n",
       "      <td>0.513694</td>\n",
       "    </tr>\n",
       "    <tr>\n",
       "      <th>1</th>\n",
       "      <td>0.527402</td>\n",
       "    </tr>\n",
       "    <tr>\n",
       "      <th>2</th>\n",
       "      <td>0.556811</td>\n",
       "    </tr>\n",
       "    <tr>\n",
       "      <th>3</th>\n",
       "      <td>0.569339</td>\n",
       "    </tr>\n",
       "    <tr>\n",
       "      <th>4</th>\n",
       "      <td>0.546610</td>\n",
       "    </tr>\n",
       "    <tr>\n",
       "      <th>5</th>\n",
       "      <td>0.544195</td>\n",
       "    </tr>\n",
       "    <tr>\n",
       "      <th>6</th>\n",
       "      <td>0.578878</td>\n",
       "    </tr>\n",
       "    <tr>\n",
       "      <th>7</th>\n",
       "      <td>0.547703</td>\n",
       "    </tr>\n",
       "  </tbody>\n",
       "</table>\n",
       "</div>"
      ],
      "text/plain": [
       "         voted\n",
       "tp01          \n",
       "0     0.513694\n",
       "1     0.527402\n",
       "2     0.556811\n",
       "3     0.569339\n",
       "4     0.546610\n",
       "5     0.544195\n",
       "6     0.578878\n",
       "7     0.547703"
      ]
     },
     "execution_count": 15,
     "metadata": {},
     "output_type": "execute_result"
    }
   ],
   "source": [
    "# tp : 순서형변수\n",
    "df_train[['tp01','voted']].groupby('tp01').mean()"
   ]
  },
  {
   "cell_type": "code",
   "execution_count": 16,
   "metadata": {},
   "outputs": [
    {
     "data": {
      "text/plain": [
       "<matplotlib.axes._subplots.AxesSubplot at 0x1d452bf8ee0>"
      ]
     },
     "execution_count": 16,
     "metadata": {},
     "output_type": "execute_result"
    },
    {
     "data": {
      "image/png": "[encoded data removed]",
      "text/plain": [
       "<Figure size 432x288 with 1 Axes>"
      ]
     },
     "metadata": {
      "needs_background": "light"
     },
     "output_type": "display_data"
    }
   ],
   "source": [
    "df_train['tp01'].hist()"
   ]
  },
  {
   "cell_type": "code",
   "execution_count": 17,
   "metadata": {},
   "outputs": [],
   "source": [
    "# urban : 유년기 거주 구역, str, 0이 결측치\n",
    "# wr : yes/no\n",
    "# wf : yes/no"
   ]
  },
  {
   "cell_type": "markdown",
   "metadata": {},
   "source": [
    "- 마키아벨리니즘"
   ]
  },
  {
   "cell_type": "code",
   "execution_count": 74,
   "metadata": {},
   "outputs": [
    {
     "data": {
      "text/plain": [
       "<matplotlib.axes._subplots.AxesSubplot at 0x1d4560c0f10>"
      ]
     },
     "execution_count": 74,
     "metadata": {},
     "output_type": "execute_result"
    },
    {
     "data": {
      "image/png": "[encoded data removed]",
      "text/plain": [
       "<Figure size 432x288 with 2 Axes>"
      ]
     },
     "metadata": {
      "needs_background": "light"
     },
     "output_type": "display_data"
    }
   ],
   "source": [
    "import seaborn as sns\n",
    "\n",
    "Answers = ['QaA', 'QbA', 'QcA', 'QdA', 'QeA',\n",
    "             'QfA', 'QgA', 'QhA', 'QiA', 'QjA', \n",
    "             'QkA', 'QlA', 'QmA', 'QnA', 'QoA', \n",
    "             'QpA', 'QqA', 'QrA', 'QsA', 'QtA']\n",
    "\n",
    "Answers_time_only = ['QaE', 'QbE', 'QcE', 'QdE', 'QeE',\n",
    "             'QfE', 'QgE', 'QhE', 'QiE', 'QjE', \n",
    "             'QkE', 'QlE', 'QmE', 'QnE', 'QoE', \n",
    "             'QpE', 'QqE', 'QrE', 'QsE', 'QtE']\n",
    "\n",
    "correlations = df_train[Answers].corr(method = 'spearman')\n",
    "sns.heatmap(correlations, cmap=\"coolwarm\", square=True, center=0)"
   ]
  },
  {
   "cell_type": "code",
   "execution_count": 75,
   "metadata": {},
   "outputs": [],
   "source": [
    "#data reverse\n",
    "flipping_columns = [\"QeA\", \"QfA\", \"QkA\", \"QqA\", \"QrA\"]\n",
    "for flip in flipping_columns: \n",
    "    df_train[flip] = 6 - df_train[flip]\n",
    "\n",
    "#secret data reverse\n",
    "flipping_secret_columns = [\"QaA\", \"QdA\", \"QgA\", \"QiA\", \"QnA\"]\n",
    "for flip in flipping_secret_columns: \n",
    "    df_train[flip] = 6 - df_train[flip]\n",
    "\n",
    "df_train['Mach_score'] = df_train[Answers].mean(axis = 1)"
   ]
  },
  {
   "cell_type": "code",
   "execution_count": 76,
   "metadata": {},
   "outputs": [],
   "source": [
    "#data reverse\n",
    "flipping_columns = [\"QeA\", \"QfA\", \"QkA\", \"QqA\", \"QrA\"]\n",
    "for flip in flipping_columns: \n",
    "    df_test[flip] = 6 - df_test[flip]\n",
    "    \n",
    "#secret data reverse\n",
    "flipping_secret_columns = [\"QaA\", \"QdA\", \"QgA\", \"QiA\", \"QnA\"]\n",
    "for flip in flipping_secret_columns: \n",
    "    df_test[flip] = 6 - df_test[flip]\n",
    "\n",
    "df_test['Mach_score'] = df_test[Answers].mean(axis = 1)"
   ]
  },
  {
   "cell_type": "markdown",
   "metadata": {},
   "source": [
    "- 피처 변수 정규화"
   ]
  },
  {
   "cell_type": "code",
   "execution_count": 77,
   "metadata": {},
   "outputs": [],
   "source": [
    "log_Answer_time = df_train[Answers_time_only].copy()\n",
    "log_Answer_time[Answers_time_only] = np.log1p(df_train[Answers_time_only])\n",
    "df_train[Answers_time_only] = log_Answer_time"
   ]
  },
  {
   "cell_type": "code",
   "execution_count": 78,
   "metadata": {},
   "outputs": [],
   "source": [
    "log_Answer_time_t = df_test[Answers_time_only].copy()\n",
    "log_Answer_time_t[Answers_time_only] = np.log1p(df_test[Answers_time_only])\n",
    "df_test[Answers_time_only] = log_Answer_time_t"
   ]
  },
  {
   "cell_type": "markdown",
   "metadata": {},
   "source": [
    "- 상관관계"
   ]
  },
  {
   "cell_type": "code",
   "execution_count": 79,
   "metadata": {},
   "outputs": [
    {
     "data": {
      "text/html": [
       "<div>\n",
       "<style scoped>\n",
       "    .dataframe tbody tr th:only-of-type {\n",
       "        vertical-align: middle;\n",
       "    }\n",
       "\n",
       "    .dataframe tbody tr th {\n",
       "        vertical-align: top;\n",
       "    }\n",
       "\n",
       "    .dataframe thead th {\n",
       "        text-align: right;\n",
       "    }\n",
       "</style>\n",
       "<table border=\"1\" class=\"dataframe\">\n",
       "  <thead>\n",
       "    <tr style=\"text-align: right;\">\n",
       "      <th></th>\n",
       "      <th>QaA</th>\n",
       "      <th>QaE</th>\n",
       "      <th>QbA</th>\n",
       "      <th>QbE</th>\n",
       "      <th>QcA</th>\n",
       "      <th>QcE</th>\n",
       "      <th>QdA</th>\n",
       "      <th>QdE</th>\n",
       "      <th>QeA</th>\n",
       "      <th>QeE</th>\n",
       "      <th>...</th>\n",
       "      <th>wr_05</th>\n",
       "      <th>wr_06</th>\n",
       "      <th>wr_07</th>\n",
       "      <th>wr_08</th>\n",
       "      <th>wr_09</th>\n",
       "      <th>wr_10</th>\n",
       "      <th>wr_11</th>\n",
       "      <th>wr_12</th>\n",
       "      <th>wr_13</th>\n",
       "      <th>Mach_score</th>\n",
       "    </tr>\n",
       "  </thead>\n",
       "  <tbody>\n",
       "    <tr>\n",
       "      <th>QaA</th>\n",
       "      <td>1.000000</td>\n",
       "      <td>-0.085087</td>\n",
       "      <td>0.241980</td>\n",
       "      <td>-0.016087</td>\n",
       "      <td>0.309438</td>\n",
       "      <td>-0.059760</td>\n",
       "      <td>0.313172</td>\n",
       "      <td>-0.071716</td>\n",
       "      <td>0.211496</td>\n",
       "      <td>-0.026677</td>\n",
       "      <td>...</td>\n",
       "      <td>0.031038</td>\n",
       "      <td>0.042923</td>\n",
       "      <td>0.026785</td>\n",
       "      <td>-0.004128</td>\n",
       "      <td>0.027163</td>\n",
       "      <td>0.015936</td>\n",
       "      <td>-0.000456</td>\n",
       "      <td>0.014155</td>\n",
       "      <td>0.013171</td>\n",
       "      <td>0.528127</td>\n",
       "    </tr>\n",
       "    <tr>\n",
       "      <th>QaE</th>\n",
       "      <td>-0.085087</td>\n",
       "      <td>1.000000</td>\n",
       "      <td>-0.144973</td>\n",
       "      <td>0.286571</td>\n",
       "      <td>-0.091709</td>\n",
       "      <td>0.302246</td>\n",
       "      <td>-0.051990</td>\n",
       "      <td>0.302425</td>\n",
       "      <td>-0.068843</td>\n",
       "      <td>0.296531</td>\n",
       "      <td>...</td>\n",
       "      <td>-0.021223</td>\n",
       "      <td>-0.025150</td>\n",
       "      <td>-0.026110</td>\n",
       "      <td>0.000016</td>\n",
       "      <td>-0.025206</td>\n",
       "      <td>-0.008088</td>\n",
       "      <td>-0.005309</td>\n",
       "      <td>0.003090</td>\n",
       "      <td>-0.033470</td>\n",
       "      <td>-0.175849</td>\n",
       "    </tr>\n",
       "    <tr>\n",
       "      <th>QbA</th>\n",
       "      <td>0.241980</td>\n",
       "      <td>-0.144973</td>\n",
       "      <td>1.000000</td>\n",
       "      <td>-0.148253</td>\n",
       "      <td>0.385936</td>\n",
       "      <td>-0.160566</td>\n",
       "      <td>0.207616</td>\n",
       "      <td>-0.137322</td>\n",
       "      <td>0.197120</td>\n",
       "      <td>-0.131674</td>\n",
       "      <td>...</td>\n",
       "      <td>-0.021135</td>\n",
       "      <td>0.002244</td>\n",
       "      <td>-0.000924</td>\n",
       "      <td>-0.014666</td>\n",
       "      <td>-0.006372</td>\n",
       "      <td>-0.024496</td>\n",
       "      <td>-0.012131</td>\n",
       "      <td>-0.024029</td>\n",
       "      <td>0.000519</td>\n",
       "      <td>0.624758</td>\n",
       "    </tr>\n",
       "    <tr>\n",
       "      <th>QbE</th>\n",
       "      <td>-0.016087</td>\n",
       "      <td>0.286571</td>\n",
       "      <td>-0.148253</td>\n",
       "      <td>1.000000</td>\n",
       "      <td>-0.055540</td>\n",
       "      <td>0.327507</td>\n",
       "      <td>-0.039967</td>\n",
       "      <td>0.322852</td>\n",
       "      <td>-0.060678</td>\n",
       "      <td>0.329284</td>\n",
       "      <td>...</td>\n",
       "      <td>-0.053183</td>\n",
       "      <td>-0.054043</td>\n",
       "      <td>-0.039699</td>\n",
       "      <td>-0.004466</td>\n",
       "      <td>-0.052800</td>\n",
       "      <td>-0.019549</td>\n",
       "      <td>-0.066489</td>\n",
       "      <td>-0.010830</td>\n",
       "      <td>-0.052560</td>\n",
       "      <td>-0.128211</td>\n",
       "    </tr>\n",
       "    <tr>\n",
       "      <th>QcA</th>\n",
       "      <td>0.309438</td>\n",
       "      <td>-0.091709</td>\n",
       "      <td>0.385936</td>\n",
       "      <td>-0.055540</td>\n",
       "      <td>1.000000</td>\n",
       "      <td>-0.157931</td>\n",
       "      <td>0.245332</td>\n",
       "      <td>-0.100354</td>\n",
       "      <td>0.194034</td>\n",
       "      <td>-0.078693</td>\n",
       "      <td>...</td>\n",
       "      <td>0.015403</td>\n",
       "      <td>0.040961</td>\n",
       "      <td>0.015864</td>\n",
       "      <td>-0.016094</td>\n",
       "      <td>0.028129</td>\n",
       "      <td>0.007025</td>\n",
       "      <td>0.026792</td>\n",
       "      <td>0.004300</td>\n",
       "      <td>0.003499</td>\n",
       "      <td>0.614702</td>\n",
       "    </tr>\n",
       "    <tr>\n",
       "      <th>...</th>\n",
       "      <td>...</td>\n",
       "      <td>...</td>\n",
       "      <td>...</td>\n",
       "      <td>...</td>\n",
       "      <td>...</td>\n",
       "      <td>...</td>\n",
       "      <td>...</td>\n",
       "      <td>...</td>\n",
       "      <td>...</td>\n",
       "      <td>...</td>\n",
       "      <td>...</td>\n",
       "      <td>...</td>\n",
       "      <td>...</td>\n",
       "      <td>...</td>\n",
       "      <td>...</td>\n",
       "      <td>...</td>\n",
       "      <td>...</td>\n",
       "      <td>...</td>\n",
       "      <td>...</td>\n",
       "      <td>...</td>\n",
       "      <td>...</td>\n",
       "    </tr>\n",
       "    <tr>\n",
       "      <th>wr_10</th>\n",
       "      <td>0.015936</td>\n",
       "      <td>-0.008088</td>\n",
       "      <td>-0.024496</td>\n",
       "      <td>-0.019549</td>\n",
       "      <td>0.007025</td>\n",
       "      <td>-0.042319</td>\n",
       "      <td>0.047415</td>\n",
       "      <td>-0.054285</td>\n",
       "      <td>0.041892</td>\n",
       "      <td>-0.041566</td>\n",
       "      <td>...</td>\n",
       "      <td>0.453839</td>\n",
       "      <td>0.081429</td>\n",
       "      <td>0.579492</td>\n",
       "      <td>0.465421</td>\n",
       "      <td>0.049036</td>\n",
       "      <td>1.000000</td>\n",
       "      <td>0.133251</td>\n",
       "      <td>0.497165</td>\n",
       "      <td>0.431927</td>\n",
       "      <td>0.006857</td>\n",
       "    </tr>\n",
       "    <tr>\n",
       "      <th>wr_11</th>\n",
       "      <td>-0.000456</td>\n",
       "      <td>-0.005309</td>\n",
       "      <td>-0.012131</td>\n",
       "      <td>-0.066489</td>\n",
       "      <td>0.026792</td>\n",
       "      <td>-0.077301</td>\n",
       "      <td>0.050704</td>\n",
       "      <td>-0.104013</td>\n",
       "      <td>0.072944</td>\n",
       "      <td>-0.097997</td>\n",
       "      <td>...</td>\n",
       "      <td>0.222746</td>\n",
       "      <td>0.298060</td>\n",
       "      <td>0.143939</td>\n",
       "      <td>0.068122</td>\n",
       "      <td>0.348387</td>\n",
       "      <td>0.133251</td>\n",
       "      <td>1.000000</td>\n",
       "      <td>0.129087</td>\n",
       "      <td>0.170115</td>\n",
       "      <td>0.020153</td>\n",
       "    </tr>\n",
       "    <tr>\n",
       "      <th>wr_12</th>\n",
       "      <td>0.014155</td>\n",
       "      <td>0.003090</td>\n",
       "      <td>-0.024029</td>\n",
       "      <td>-0.010830</td>\n",
       "      <td>0.004300</td>\n",
       "      <td>-0.024696</td>\n",
       "      <td>0.043512</td>\n",
       "      <td>-0.041180</td>\n",
       "      <td>0.034397</td>\n",
       "      <td>-0.024056</td>\n",
       "      <td>...</td>\n",
       "      <td>0.390937</td>\n",
       "      <td>0.084020</td>\n",
       "      <td>0.474846</td>\n",
       "      <td>0.418815</td>\n",
       "      <td>0.050239</td>\n",
       "      <td>0.497165</td>\n",
       "      <td>0.129087</td>\n",
       "      <td>1.000000</td>\n",
       "      <td>0.404597</td>\n",
       "      <td>0.001414</td>\n",
       "    </tr>\n",
       "    <tr>\n",
       "      <th>wr_13</th>\n",
       "      <td>0.013171</td>\n",
       "      <td>-0.033470</td>\n",
       "      <td>0.000519</td>\n",
       "      <td>-0.052560</td>\n",
       "      <td>0.003499</td>\n",
       "      <td>-0.083246</td>\n",
       "      <td>0.067613</td>\n",
       "      <td>-0.112407</td>\n",
       "      <td>0.063945</td>\n",
       "      <td>-0.091468</td>\n",
       "      <td>...</td>\n",
       "      <td>0.479021</td>\n",
       "      <td>0.103997</td>\n",
       "      <td>0.447438</td>\n",
       "      <td>0.370145</td>\n",
       "      <td>0.071570</td>\n",
       "      <td>0.431927</td>\n",
       "      <td>0.170115</td>\n",
       "      <td>0.404597</td>\n",
       "      <td>1.000000</td>\n",
       "      <td>0.016788</td>\n",
       "    </tr>\n",
       "    <tr>\n",
       "      <th>Mach_score</th>\n",
       "      <td>0.528127</td>\n",
       "      <td>-0.175849</td>\n",
       "      <td>0.624758</td>\n",
       "      <td>-0.128211</td>\n",
       "      <td>0.614702</td>\n",
       "      <td>-0.198984</td>\n",
       "      <td>0.459811</td>\n",
       "      <td>-0.191885</td>\n",
       "      <td>0.387486</td>\n",
       "      <td>-0.146404</td>\n",
       "      <td>...</td>\n",
       "      <td>0.024385</td>\n",
       "      <td>0.059723</td>\n",
       "      <td>0.028817</td>\n",
       "      <td>-0.014981</td>\n",
       "      <td>0.043746</td>\n",
       "      <td>0.006857</td>\n",
       "      <td>0.020153</td>\n",
       "      <td>0.001414</td>\n",
       "      <td>0.016788</td>\n",
       "      <td>1.000000</td>\n",
       "    </tr>\n",
       "  </tbody>\n",
       "</table>\n",
       "<p>74 rows × 74 columns</p>\n",
       "</div>"
      ],
      "text/plain": [
       "                 QaA       QaE       QbA       QbE       QcA       QcE  \\\n",
       "QaA         1.000000 -0.085087  0.241980 -0.016087  0.309438 -0.059760   \n",
       "QaE        -0.085087  1.000000 -0.144973  0.286571 -0.091709  0.302246   \n",
       "QbA         0.241980 -0.144973  1.000000 -0.148253  0.385936 -0.160566   \n",
       "QbE        -0.016087  0.286571 -0.148253  1.000000 -0.055540  0.327507   \n",
       "QcA         0.309438 -0.091709  0.385936 -0.055540  1.000000 -0.157931   \n",
       "...              ...       ...       ...       ...       ...       ...   \n",
       "wr_10       0.015936 -0.008088 -0.024496 -0.019549  0.007025 -0.042319   \n",
       "wr_11      -0.000456 -0.005309 -0.012131 -0.066489  0.026792 -0.077301   \n",
       "wr_12       0.014155  0.003090 -0.024029 -0.010830  0.004300 -0.024696   \n",
       "wr_13       0.013171 -0.033470  0.000519 -0.052560  0.003499 -0.083246   \n",
       "Mach_score  0.528127 -0.175849  0.624758 -0.128211  0.614702 -0.198984   \n",
       "\n",
       "                 QdA       QdE       QeA       QeE  ...     wr_05     wr_06  \\\n",
       "QaA         0.313172 -0.071716  0.211496 -0.026677  ...  0.031038  0.042923   \n",
       "QaE        -0.051990  0.302425 -0.068843  0.296531  ... -0.021223 -0.025150   \n",
       "QbA         0.207616 -0.137322  0.197120 -0.131674  ... -0.021135  0.002244   \n",
       "QbE        -0.039967  0.322852 -0.060678  0.329284  ... -0.053183 -0.054043   \n",
       "QcA         0.245332 -0.100354  0.194034 -0.078693  ...  0.015403  0.040961   \n",
       "...              ...       ...       ...       ...  ...       ...       ...   \n",
       "wr_10       0.047415 -0.054285  0.041892 -0.041566  ...  0.453839  0.081429   \n",
       "wr_11       0.050704 -0.104013  0.072944 -0.097997  ...  0.222746  0.298060   \n",
       "wr_12       0.043512 -0.041180  0.034397 -0.024056  ...  0.390937  0.084020   \n",
       "wr_13       0.067613 -0.112407  0.063945 -0.091468  ...  0.479021  0.103997   \n",
       "Mach_score  0.459811 -0.191885  0.387486 -0.146404  ...  0.024385  0.059723   \n",
       "\n",
       "               wr_07     wr_08     wr_09     wr_10     wr_11     wr_12  \\\n",
       "QaA         0.026785 -0.004128  0.027163  0.015936 -0.000456  0.014155   \n",
       "QaE        -0.026110  0.000016 -0.025206 -0.008088 -0.005309  0.003090   \n",
       "QbA        -0.000924 -0.014666 -0.006372 -0.024496 -0.012131 -0.024029   \n",
       "QbE        -0.039699 -0.004466 -0.052800 -0.019549 -0.066489 -0.010830   \n",
       "QcA         0.015864 -0.016094  0.028129  0.007025  0.026792  0.004300   \n",
       "...              ...       ...       ...       ...       ...       ...   \n",
       "wr_10       0.579492  0.465421  0.049036  1.000000  0.133251  0.497165   \n",
       "wr_11       0.143939  0.068122  0.348387  0.133251  1.000000  0.129087   \n",
       "wr_12       0.474846  0.418815  0.050239  0.497165  0.129087  1.000000   \n",
       "wr_13       0.447438  0.370145  0.071570  0.431927  0.170115  0.404597   \n",
       "Mach_score  0.028817 -0.014981  0.043746  0.006857  0.020153  0.001414   \n",
       "\n",
       "               wr_13  Mach_score  \n",
       "QaA         0.013171    0.528127  \n",
       "QaE        -0.033470   -0.175849  \n",
       "QbA         0.000519    0.624758  \n",
       "QbE        -0.052560   -0.128211  \n",
       "QcA         0.003499    0.614702  \n",
       "...              ...         ...  \n",
       "wr_10       0.431927    0.006857  \n",
       "wr_11       0.170115    0.020153  \n",
       "wr_12       0.404597    0.001414  \n",
       "wr_13       1.000000    0.016788  \n",
       "Mach_score  0.016788    1.000000  \n",
       "\n",
       "[74 rows x 74 columns]"
      ]
     },
     "execution_count": 79,
     "metadata": {},
     "output_type": "execute_result"
    }
   ],
   "source": [
    "corr = df_train.corr()\n",
    "corr"
   ]
  },
  {
   "cell_type": "markdown",
   "metadata": {},
   "source": [
    "- 결측치 처리"
   ]
  },
  {
   "cell_type": "code",
   "execution_count": 80,
   "metadata": {},
   "outputs": [
    {
     "data": {
      "text/plain": [
       "Series([], dtype: int64)"
      ]
     },
     "execution_count": 80,
     "metadata": {},
     "output_type": "execute_result"
    }
   ],
   "source": [
    "a = df_train.isnull().sum()\n",
    "a[a != 0]"
   ]
  },
  {
   "cell_type": "code",
   "execution_count": 81,
   "metadata": {},
   "outputs": [
    {
     "data": {
      "text/plain": [
       "Series([], dtype: int64)"
      ]
     },
     "execution_count": 81,
     "metadata": {},
     "output_type": "execute_result"
    }
   ],
   "source": [
    "b = df_test.isnull().sum()\n",
    "b[b != 0]"
   ]
  },
  {
   "cell_type": "markdown",
   "metadata": {},
   "source": [
    "- 피처 변수 속성 확인"
   ]
  },
  {
   "cell_type": "code",
   "execution_count": 85,
   "metadata": {},
   "outputs": [
    {
     "name": "stdout",
     "output_type": "stream",
     "text": [
      "<class 'pandas.core.frame.DataFrame'>\n",
      "Int64Index: 45532 entries, 0 to 45531\n",
      "Data columns (total 79 columns):\n",
      " #   Column       Non-Null Count  Dtype  \n",
      "---  ------       --------------  -----  \n",
      " 0   QaA          45532 non-null  float64\n",
      " 1   QaE          45532 non-null  float64\n",
      " 2   QbA          45532 non-null  float64\n",
      " 3   QbE          45532 non-null  float64\n",
      " 4   QcA          45532 non-null  float64\n",
      " 5   QcE          45532 non-null  float64\n",
      " 6   QdA          45532 non-null  float64\n",
      " 7   QdE          45532 non-null  float64\n",
      " 8   QeA          45532 non-null  float64\n",
      " 9   QeE          45532 non-null  float64\n",
      " 10  QfA          45532 non-null  float64\n",
      " 11  QfE          45532 non-null  float64\n",
      " 12  QgA          45532 non-null  float64\n",
      " 13  QgE          45532 non-null  float64\n",
      " 14  QhA          45532 non-null  float64\n",
      " 15  QhE          45532 non-null  float64\n",
      " 16  QiA          45532 non-null  float64\n",
      " 17  QiE          45532 non-null  float64\n",
      " 18  QjA          45532 non-null  float64\n",
      " 19  QjE          45532 non-null  float64\n",
      " 20  QkA          45532 non-null  float64\n",
      " 21  QkE          45532 non-null  float64\n",
      " 22  QlA          45532 non-null  float64\n",
      " 23  QlE          45532 non-null  float64\n",
      " 24  QmA          45532 non-null  float64\n",
      " 25  QmE          45532 non-null  float64\n",
      " 26  QnA          45532 non-null  float64\n",
      " 27  QnE          45532 non-null  float64\n",
      " 28  QoA          45532 non-null  float64\n",
      " 29  QoE          45532 non-null  float64\n",
      " 30  QpA          45532 non-null  float64\n",
      " 31  QpE          45532 non-null  float64\n",
      " 32  QqA          45532 non-null  float64\n",
      " 33  QqE          45532 non-null  float64\n",
      " 34  QrA          45532 non-null  float64\n",
      " 35  QrE          45532 non-null  float64\n",
      " 36  QsA          45532 non-null  float64\n",
      " 37  QsE          45532 non-null  float64\n",
      " 38  QtA          45532 non-null  float64\n",
      " 39  QtE          45532 non-null  float64\n",
      " 40  age_group    45532 non-null  int32  \n",
      " 41  education    45532 non-null  int32  \n",
      " 42  engnat       45532 non-null  int64  \n",
      " 43  familysize   45532 non-null  int64  \n",
      " 44  gender       45532 non-null  object \n",
      " 45  hand         45532 non-null  object \n",
      " 46  married      45532 non-null  object \n",
      " 47  race         45532 non-null  object \n",
      " 48  religion     45532 non-null  object \n",
      " 49  tp01         45532 non-null  int64  \n",
      " 50  tp02         45532 non-null  int64  \n",
      " 51  tp03         45532 non-null  int64  \n",
      " 52  tp04         45532 non-null  int64  \n",
      " 53  tp05         45532 non-null  int64  \n",
      " 54  tp06         45532 non-null  int64  \n",
      " 55  tp07         45532 non-null  int64  \n",
      " 56  tp08         45532 non-null  int64  \n",
      " 57  tp09         45532 non-null  int64  \n",
      " 58  tp10         45532 non-null  int64  \n",
      " 59  urban        45532 non-null  object \n",
      " 60  voted        45532 non-null  int64  \n",
      " 61  wf_01        45532 non-null  int64  \n",
      " 62  wf_02        45532 non-null  int64  \n",
      " 63  wf_03        45532 non-null  int64  \n",
      " 64  wr_01        45532 non-null  int64  \n",
      " 65  wr_02        45532 non-null  int64  \n",
      " 66  wr_03        45532 non-null  int64  \n",
      " 67  wr_04        45532 non-null  int64  \n",
      " 68  wr_05        45532 non-null  int64  \n",
      " 69  wr_06        45532 non-null  int64  \n",
      " 70  wr_07        45532 non-null  int64  \n",
      " 71  wr_08        45532 non-null  int64  \n",
      " 72  wr_09        45532 non-null  int64  \n",
      " 73  wr_10        45532 non-null  int64  \n",
      " 74  wr_11        45532 non-null  int64  \n",
      " 75  wr_12        45532 non-null  int64  \n",
      " 76  wr_13        45532 non-null  int64  \n",
      " 77  Mach_score   45532 non-null  float64\n",
      " 78  gender_code  45532 non-null  int32  \n",
      "dtypes: float64(41), int32(3), int64(29), object(6)\n",
      "memory usage: 27.3+ MB\n"
     ]
    }
   ],
   "source": [
    "df_train.info()"
   ]
  },
  {
   "cell_type": "code",
   "execution_count": 83,
   "metadata": {},
   "outputs": [],
   "source": [
    "df_train['education'] = df_train['education'].apply(str)\n",
    "df_train['hand'] = df_train['hand'].apply(str)\n",
    "df_train['married'] = df_train['married'].apply(str)\n",
    "df_train['urban'] = df_train['urban'].apply(str)\n",
    "\n",
    "df_test['education'] = df_test['education'].apply(str)\n",
    "df_test['hand'] = df_test['hand'].apply(str)\n",
    "df_test['married'] = df_test['married'].apply(str)\n",
    "df_test['urban'] = df_test['urban'].apply(str)"
   ]
  },
  {
   "cell_type": "markdown",
   "metadata": {},
   "source": [
    "- 순서형 라벨인코딩"
   ]
  },
  {
   "cell_type": "code",
   "execution_count": 86,
   "metadata": {},
   "outputs": [],
   "source": [
    "from sklearn.preprocessing import LabelEncoder\n",
    "label = LabelEncoder()\n",
    "\n",
    "df_train['gender_code']=label.fit_transform(df_train['gender'])\n",
    "df_train['age_group']=label.fit_transform(df_train['age_group'])\n",
    "df_train['education']=label.fit_transform(df_train['education'])\n",
    "df_train['tp01'] = label.fit_transform(df_train['tp01'])\n",
    "df_train['tp02'] = label.fit_transform(df_train['tp02'])\n",
    "df_train['tp03'] = label.fit_transform(df_train['tp03'])\n",
    "df_train['tp04'] = label.fit_transform(df_train['tp04'])\n",
    "df_train['tp05'] = label.fit_transform(df_train['tp05'])\n",
    "df_train['tp06'] = label.fit_transform(df_train['tp06'])\n",
    "df_train['tp07'] = label.fit_transform(df_train['tp07'])\n",
    "df_train['tp08'] = label.fit_transform(df_train['tp08'])\n",
    "df_train['tp09'] = label.fit_transform(df_train['tp09'])\n",
    "df_train['tp10'] = label.fit_transform(df_train['tp10'])\n",
    "\n",
    "df_test['gender_code']=label.fit_transform(df_test['gender'])\n",
    "df_test['age_group']=label.fit_transform(df_test['age_group'])\n",
    "df_test['education']=label.fit_transform(df_test['education'])\n",
    "df_test['tp01']=label.fit_transform(df_test['tp01'])\n",
    "df_test['tp02']=label.fit_transform(df_test['tp02'])\n",
    "df_test['tp03']=label.fit_transform(df_test['tp03'])\n",
    "df_test['tp04']=label.fit_transform(df_test['tp04'])\n",
    "df_test['tp05']=label.fit_transform(df_test['tp05'])\n",
    "df_test['tp06']=label.fit_transform(df_test['tp06'])\n",
    "df_test['tp07']=label.fit_transform(df_test['tp07'])\n",
    "df_test['tp08']=label.fit_transform(df_test['tp08'])\n",
    "df_test['tp09']=label.fit_transform(df_test['tp09'])\n",
    "df_test['tp10']=label.fit_transform(df_test['tp10'])"
   ]
  },
  {
   "cell_type": "markdown",
   "metadata": {},
   "source": [
    "- 더미화"
   ]
  },
  {
   "cell_type": "code",
   "execution_count": 87,
   "metadata": {},
   "outputs": [],
   "source": [
    "y=df_train['voted']\n",
    "df_train=df_train.loc[:,df_train.columns != 'voted']\n",
    "\n",
    "df_full = pd.concat([df_train, df_test])\n",
    "df_full = pd.get_dummies(df_full) \n",
    "df_train = pd.get_dummies(df_train)\n",
    "df_test = pd.get_dummies(df_test)  "
   ]
  },
  {
   "cell_type": "code",
   "execution_count": 88,
   "metadata": {},
   "outputs": [
    {
     "name": "stdout",
     "output_type": "stream",
     "text": [
      "(56915, 105)\n",
      "(45532, 105)\n",
      "(11383, 105)\n"
     ]
    }
   ],
   "source": [
    "print(df_full.shape)\n",
    "print(df_train.shape)\n",
    "print(df_test.shape)"
   ]
  },
  {
   "cell_type": "markdown",
   "metadata": {},
   "source": [
    "## Modeling"
   ]
  },
  {
   "cell_type": "code",
   "execution_count": 89,
   "metadata": {},
   "outputs": [],
   "source": [
    "from sklearn.model_selection import train_test_split\n",
    "from sklearn.model_selection import StratifiedKFold\n",
    "from sklearn.metrics import mean_squared_error\n",
    "from sklearn.metrics import accuracy_score\n",
    "\n",
    "y_target = y\n",
    "X_features = df_train\n",
    "X_train, X_test, y_train, y_test = train_test_split(X_features, y_target, test_size=0.2, random_state=0)"
   ]
  },
  {
   "cell_type": "code",
   "execution_count": 90,
   "metadata": {},
   "outputs": [],
   "source": [
    "def rmse(predictions, targets) :\n",
    "    return np.sqrt(((predictions - targets) ** 2).mean())"
   ]
  },
  {
   "cell_type": "markdown",
   "metadata": {},
   "source": [
    "LogisticRegression"
   ]
  },
  {
   "cell_type": "code",
   "execution_count": 91,
   "metadata": {},
   "outputs": [
    {
     "name": "stdout",
     "output_type": "stream",
     "text": [
      "정확도 : 0.6782\n",
      "Root Mean Squared Error: 0.5673097413173948\n"
     ]
    },
    {
     "name": "stderr",
     "output_type": "stream",
     "text": [
      "C:\\Users\\user\\anaconda3\\lib\\site-packages\\sklearn\\linear_model\\_logistic.py:762: ConvergenceWarning: lbfgs failed to converge (status=1):\n",
      "STOP: TOTAL NO. of ITERATIONS REACHED LIMIT.\n",
      "\n",
      "Increase the number of iterations (max_iter) or scale the data as shown in:\n",
      "    https://scikit-learn.org/stable/modules/preprocessing.html\n",
      "Please also refer to the documentation for alternative solver options:\n",
      "    https://scikit-learn.org/stable/modules/linear_model.html#logistic-regression\n",
      "  n_iter_i = _check_optimize_result(\n"
     ]
    }
   ],
   "source": [
    "from sklearn.linear_model import LogisticRegression\n",
    "log = LogisticRegression()\n",
    "log.fit(X_train, y_train)\n",
    "y_pred = log.predict(X_test)\n",
    "\n",
    "print('정확도 : {0:.4f}'.format(accuracy_score(y_test, y_pred)))\n",
    "print('Root Mean Squared Error:',rmse(y_pred,y_test))"
   ]
  },
  {
   "cell_type": "markdown",
   "metadata": {},
   "source": [
    "DecisionTreeClassifier"
   ]
  },
  {
   "cell_type": "code",
   "execution_count": 92,
   "metadata": {},
   "outputs": [
    {
     "name": "stdout",
     "output_type": "stream",
     "text": [
      "정확도 : 0.6088\n",
      "Root Mean Squared Error : 0.6254898157508193\n"
     ]
    }
   ],
   "source": [
    "from sklearn.tree import DecisionTreeClassifier\n",
    "dt = DecisionTreeClassifier(random_state=11)\n",
    "dt.fit(X_train, y_train)\n",
    "y_pred = dt.predict(X_test)\n",
    "\n",
    "print('정확도 : {0:.4f}'.format(accuracy_score(y_test, y_pred)))\n",
    "print('Root Mean Squared Error :',rmse(y_pred,y_test))"
   ]
  },
  {
   "cell_type": "code",
   "execution_count": 93,
   "metadata": {},
   "outputs": [
    {
     "name": "stdout",
     "output_type": "stream",
     "text": [
      "GridSeachCV 최고 평균 정확도 : 0.6822\n",
      "GridSeachCV 최적 하이퍼 파라미터 :  {'max_depth': 6, 'min_samples_split': 24}\n"
     ]
    }
   ],
   "source": [
    "from sklearn.model_selection import GridSearchCV\n",
    "\n",
    "skfold = StratifiedKFold(n_splits=2)\n",
    "\n",
    "params = {'max_depth' : [6,8,10,12,16,20,24],\n",
    "          'min_samples_split' : [12,16,20,24]}\n",
    "grid_cv = GridSearchCV(dt, param_grid=params, scoring='accuracy', cv=skfold)\n",
    "grid_cv.fit(X_train, y_train)\n",
    "print('GridSeachCV 최고 평균 정확도 : {0:.4F}'.format(grid_cv.best_score_))\n",
    "print('GridSeachCV 최적 하이퍼 파라미터 : ', grid_cv.best_params_)"
   ]
  },
  {
   "cell_type": "code",
   "execution_count": 94,
   "metadata": {},
   "outputs": [
    {
     "name": "stdout",
     "output_type": "stream",
     "text": [
      "[1 1 0 ... 1 1 1]\n",
      "index\n",
      "21964    1\n",
      "19947    1\n",
      "15906    1\n",
      "37973    1\n",
      "25088    1\n",
      "        ..\n",
      "20957    0\n",
      "1180     0\n",
      "5622     1\n",
      "32207    1\n",
      "15244    1\n",
      "Name: voted, Length: 9107, dtype: int64\n",
      "정확도 : 0.6924\n",
      "Root Mean Squared Error : 0.5545859796932266\n"
     ]
    }
   ],
   "source": [
    "best_df_clf = grid_cv.best_estimator_\n",
    "pred1 = best_df_clf.predict(X_test)\n",
    "\n",
    "print(pred1)\n",
    "print(y_test)\n",
    "print('정확도 : {0:.4f}'.format(accuracy_score(y_test, pred1)))\n",
    "print('Root Mean Squared Error :', rmse(pred1,y_test))"
   ]
  },
  {
   "cell_type": "markdown",
   "metadata": {},
   "source": [
    "RandomForestClassifier"
   ]
  },
  {
   "cell_type": "code",
   "execution_count": 95,
   "metadata": {},
   "outputs": [
    {
     "name": "stdout",
     "output_type": "stream",
     "text": [
      "정확도 : 0.6970\n",
      "Root Mean Squared Error: 0.5504123652534268\n"
     ]
    }
   ],
   "source": [
    "from sklearn.ensemble import RandomForestClassifier\n",
    "rf = RandomForestClassifier(random_state=11)\n",
    "rf.fit(X=X_train, y=y_train)\n",
    "y_pred = rf.predict(X_test)\n",
    "\n",
    "print('정확도 : {0:.4f}'.format(accuracy_score(y_test, y_pred)))\n",
    "print('Root Mean Squared Error:',rmse(y_pred,y_test))"
   ]
  },
  {
   "cell_type": "code",
   "execution_count": 29,
   "metadata": {},
   "outputs": [],
   "source": [
    "# from sklearn.model_selection import GridSearchCV\n",
    "\n",
    "# skfold = StratifiedKFold(n_splits=2)\n",
    "\n",
    "# params = {'max_depth' : [6,8,10,12,16,20,24],\n",
    "#           'min_samples_split' : [12,16,20,24]}\n",
    "# grid_cv = GridSearchCV(rf, param_grid=params, scoring='accuracy', cv=skfold)\n",
    "# grid_cv.fit(X_train, y_train)\n",
    "# print('GridSeachCV 최고 평균 정확도 : {0:.4F}'.format(grid_cv.best_score_))\n",
    "# print('GridSeachCV 최적 하이퍼 파라미터 : ', grid_cv.best_params_)"
   ]
  },
  {
   "cell_type": "code",
   "execution_count": 30,
   "metadata": {},
   "outputs": [],
   "source": [
    "# best_df_clf = grid_cv.best_estimator_\n",
    "# pred1 = best_df_clf.predict(X_test)\n",
    "\n",
    "# print('정확도 : {0:.4f}'.format(accuracy_score(y_test, pred1)))\n",
    "# print('Root Mean Squared Error :',rmse(pred1,y_test))"
   ]
  },
  {
   "cell_type": "markdown",
   "metadata": {},
   "source": [
    "GradientBoostingClassifier"
   ]
  },
  {
   "cell_type": "code",
   "execution_count": 96,
   "metadata": {},
   "outputs": [
    {
     "name": "stdout",
     "output_type": "stream",
     "text": [
      "rmse=  0.5457040466731\n",
      "gradientboosting 훈련 세트 점수 :0.7031\n",
      "gradientboosting 테스트 세트 점수 :0.7022\n"
     ]
    }
   ],
   "source": [
    "from sklearn.ensemble import GradientBoostingClassifier\n",
    "\n",
    "gb = GradientBoostingClassifier()\n",
    "gb.fit(X=X_train, y=y_train)\n",
    "y_pred = gb.predict(X_test)\n",
    "y_true = y_test\n",
    "\n",
    "rmse = np.sqrt(mean_squared_error(y_true, y_pred))\n",
    "print('rmse= ',rmse)\n",
    "print(\"gradientboosting 훈련 세트 점수 :{:.4f}\".format(gb.score(X_train, y_train)))\n",
    "print(\"gradientboosting 테스트 세트 점수 :{:.4f}\".format(gb.score(X_test, y_test)))"
   ]
  },
  {
   "cell_type": "markdown",
   "metadata": {},
   "source": [
    "XGBoostingClassifier"
   ]
  },
  {
   "cell_type": "code",
   "execution_count": 97,
   "metadata": {},
   "outputs": [],
   "source": [
    "import xgboost as xgb\n",
    "\n",
    "d_train = xgb.DMatrix(X_train, label=y_train)\n",
    "d_valid = xgb.DMatrix(X_test, label=y_test)\n",
    "#d_test = xgb.DMatrix(y_target.values)"
   ]
  },
  {
   "cell_type": "code",
   "execution_count": 100,
   "metadata": {},
   "outputs": [
    {
     "name": "stdout",
     "output_type": "stream",
     "text": [
      "[23:00:18] WARNING: C:\\Users\\Administrator\\workspace\\xgboost-win64_release_1.2.0\\src\\learner.cc:516: \n",
      "Parameters: { n_estimators } might not be used.\n",
      "\n",
      "  This may not be accurate due to some parameters are only used in language bindings but\n",
      "  passed down to XGBoost core.  Or some parameters are not used but slip through this\n",
      "  verification. Please open an issue if you find above cases.\n",
      "\n",
      "\n",
      "[0]\ttrain-auc:0.74832\tvalid-auc:0.74154\n",
      "Multiple eval metrics have been passed: 'valid-auc' will be used for early stopping.\n",
      "\n",
      "Will train until valid-auc hasn't improved in 50 rounds.\n",
      "[10]\ttrain-auc:0.76772\tvalid-auc:0.76419\n",
      "[20]\ttrain-auc:0.76843\tvalid-auc:0.76433\n",
      "[30]\ttrain-auc:0.76884\tvalid-auc:0.76494\n",
      "[40]\ttrain-auc:0.76982\tvalid-auc:0.76562\n",
      "[50]\ttrain-auc:0.77041\tvalid-auc:0.76628\n",
      "[60]\ttrain-auc:0.77106\tvalid-auc:0.76669\n",
      "[70]\ttrain-auc:0.77160\tvalid-auc:0.76714\n",
      "[80]\ttrain-auc:0.77206\tvalid-auc:0.76724\n",
      "[90]\ttrain-auc:0.77258\tvalid-auc:0.76739\n",
      "[100]\ttrain-auc:0.77306\tvalid-auc:0.76765\n",
      "[110]\ttrain-auc:0.77368\tvalid-auc:0.76804\n",
      "[120]\ttrain-auc:0.77425\tvalid-auc:0.76801\n",
      "[130]\ttrain-auc:0.77475\tvalid-auc:0.76821\n",
      "[140]\ttrain-auc:0.77533\tvalid-auc:0.76835\n",
      "[150]\ttrain-auc:0.77586\tvalid-auc:0.76858\n",
      "[160]\ttrain-auc:0.77640\tvalid-auc:0.76869\n",
      "[170]\ttrain-auc:0.77708\tvalid-auc:0.76887\n",
      "[180]\ttrain-auc:0.77773\tvalid-auc:0.76902\n",
      "[190]\ttrain-auc:0.77833\tvalid-auc:0.76921\n",
      "[200]\ttrain-auc:0.77889\tvalid-auc:0.76935\n",
      "[210]\ttrain-auc:0.77954\tvalid-auc:0.76947\n",
      "[220]\ttrain-auc:0.77999\tvalid-auc:0.76953\n",
      "[230]\ttrain-auc:0.78056\tvalid-auc:0.76965\n",
      "[240]\ttrain-auc:0.78107\tvalid-auc:0.76980\n",
      "[250]\ttrain-auc:0.78158\tvalid-auc:0.76984\n",
      "[260]\ttrain-auc:0.78216\tvalid-auc:0.76997\n",
      "[270]\ttrain-auc:0.78275\tvalid-auc:0.77006\n",
      "[280]\ttrain-auc:0.78331\tvalid-auc:0.77016\n",
      "[290]\ttrain-auc:0.78389\tvalid-auc:0.77027\n",
      "[300]\ttrain-auc:0.78449\tvalid-auc:0.77040\n",
      "[310]\ttrain-auc:0.78502\tvalid-auc:0.77050\n",
      "[320]\ttrain-auc:0.78557\tvalid-auc:0.77055\n",
      "[330]\ttrain-auc:0.78612\tvalid-auc:0.77067\n",
      "[340]\ttrain-auc:0.78670\tvalid-auc:0.77070\n",
      "[350]\ttrain-auc:0.78725\tvalid-auc:0.77071\n",
      "[360]\ttrain-auc:0.78773\tvalid-auc:0.77079\n",
      "[370]\ttrain-auc:0.78834\tvalid-auc:0.77092\n",
      "[380]\ttrain-auc:0.78898\tvalid-auc:0.77099\n",
      "[390]\ttrain-auc:0.78953\tvalid-auc:0.77106\n",
      "[400]\ttrain-auc:0.79014\tvalid-auc:0.77114\n",
      "[410]\ttrain-auc:0.79077\tvalid-auc:0.77136\n",
      "[420]\ttrain-auc:0.79142\tvalid-auc:0.77139\n",
      "[430]\ttrain-auc:0.79205\tvalid-auc:0.77141\n",
      "[440]\ttrain-auc:0.79266\tvalid-auc:0.77144\n",
      "[450]\ttrain-auc:0.79329\tvalid-auc:0.77151\n",
      "[460]\ttrain-auc:0.79397\tvalid-auc:0.77163\n",
      "[470]\ttrain-auc:0.79453\tvalid-auc:0.77167\n",
      "[480]\ttrain-auc:0.79518\tvalid-auc:0.77170\n",
      "[490]\ttrain-auc:0.79568\tvalid-auc:0.77178\n",
      "[500]\ttrain-auc:0.79628\tvalid-auc:0.77188\n",
      "[510]\ttrain-auc:0.79693\tvalid-auc:0.77197\n",
      "[520]\ttrain-auc:0.79742\tvalid-auc:0.77210\n",
      "[530]\ttrain-auc:0.79798\tvalid-auc:0.77215\n",
      "[540]\ttrain-auc:0.79857\tvalid-auc:0.77217\n",
      "[550]\ttrain-auc:0.79915\tvalid-auc:0.77216\n",
      "[560]\ttrain-auc:0.79976\tvalid-auc:0.77214\n",
      "[570]\ttrain-auc:0.80022\tvalid-auc:0.77220\n",
      "[580]\ttrain-auc:0.80071\tvalid-auc:0.77229\n",
      "[590]\ttrain-auc:0.80115\tvalid-auc:0.77233\n",
      "[600]\ttrain-auc:0.80167\tvalid-auc:0.77231\n",
      "[610]\ttrain-auc:0.80231\tvalid-auc:0.77227\n",
      "[620]\ttrain-auc:0.80286\tvalid-auc:0.77230\n",
      "[630]\ttrain-auc:0.80337\tvalid-auc:0.77233\n",
      "[640]\ttrain-auc:0.80388\tvalid-auc:0.77229\n",
      "[650]\ttrain-auc:0.80432\tvalid-auc:0.77239\n",
      "[660]\ttrain-auc:0.80495\tvalid-auc:0.77244\n",
      "[670]\ttrain-auc:0.80547\tvalid-auc:0.77248\n",
      "[680]\ttrain-auc:0.80592\tvalid-auc:0.77250\n",
      "[690]\ttrain-auc:0.80643\tvalid-auc:0.77255\n",
      "[700]\ttrain-auc:0.80696\tvalid-auc:0.77253\n",
      "[710]\ttrain-auc:0.80742\tvalid-auc:0.77257\n",
      "[720]\ttrain-auc:0.80788\tvalid-auc:0.77268\n",
      "[730]\ttrain-auc:0.80837\tvalid-auc:0.77268\n",
      "[740]\ttrain-auc:0.80893\tvalid-auc:0.77274\n",
      "[750]\ttrain-auc:0.80942\tvalid-auc:0.77279\n",
      "[760]\ttrain-auc:0.80987\tvalid-auc:0.77280\n",
      "[770]\ttrain-auc:0.81035\tvalid-auc:0.77287\n",
      "[780]\ttrain-auc:0.81080\tvalid-auc:0.77290\n",
      "[790]\ttrain-auc:0.81138\tvalid-auc:0.77296\n",
      "[800]\ttrain-auc:0.81185\tvalid-auc:0.77294\n",
      "[810]\ttrain-auc:0.81228\tvalid-auc:0.77298\n",
      "[820]\ttrain-auc:0.81280\tvalid-auc:0.77295\n",
      "[830]\ttrain-auc:0.81327\tvalid-auc:0.77287\n",
      "[840]\ttrain-auc:0.81373\tvalid-auc:0.77290\n",
      "[850]\ttrain-auc:0.81420\tvalid-auc:0.77292\n",
      "Stopping. Best iteration:\n",
      "[807]\ttrain-auc:0.81213\tvalid-auc:0.77299\n",
      "\n"
     ]
    }
   ],
   "source": [
    "params = {\n",
    "        'objective':'binary:logistic',\n",
    "        'max_depth':5,\n",
    "        'learning_rate':0.01, \n",
    "        'eval_metric':'auc',\n",
    "        'min_child_weight':8,\n",
    "        'subsample':0.8,\n",
    "        'colsample_bytree':0.8,\n",
    "        'seed':29,\n",
    "#         'reg_lambda':1,\n",
    "        'reg_alpha':0,\n",
    "        'gamma':1,\n",
    "        'scale_pos_weight':1,\n",
    "        'n_estimators': 100,\n",
    "        'nthread':-1\n",
    "}\n",
    "\n",
    "watchlist = [(d_train, 'train'), (d_valid, 'valid')]\n",
    "nrounds=10000  \n",
    "model_xgb = xgb.train(params, d_train, nrounds, watchlist, early_stopping_rounds=50, \n",
    "                           maximize=True, verbose_eval=10)"
   ]
  },
  {
   "cell_type": "code",
   "execution_count": null,
   "metadata": {},
   "outputs": [],
   "source": []
  }
 ],
 "metadata": {
  "kernelspec": {
   "display_name": "Python 3",
   "language": "python",
   "name": "python3"
  },
  "language_info": {
   "codemirror_mode": {
    "name": "ipython",
    "version": 3
   },
   "file_extension": ".py",
   "mimetype": "text/x-python",
   "name": "python",
   "nbconvert_exporter": "python",
   "pygments_lexer": "ipython3",
   "version": "3.8.3"
  }
 },
 "nbformat": 4,
 "nbformat_minor": 4
}
